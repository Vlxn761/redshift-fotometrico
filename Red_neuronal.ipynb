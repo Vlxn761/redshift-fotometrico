{
  "nbformat": 4,
  "nbformat_minor": 0,
  "metadata": {
    "colab": {
      "provenance": [],
      "gpuType": "T4",
      "include_colab_link": true
    },
    "kernelspec": {
      "name": "python3",
      "display_name": "Python 3"
    },
    "language_info": {
      "name": "python"
    },
    "accelerator": "GPU"
  },
  "cells": [
    {
      "cell_type": "markdown",
      "metadata": {
        "id": "view-in-github",
        "colab_type": "text"
      },
      "source": [
        "<a href=\"https://colab.research.google.com/github/Vlxn761/redshift-fotometrico/blob/main/Red_neuronal.ipynb\" target=\"_parent\"><img src=\"https://colab.research.google.com/assets/colab-badge.svg\" alt=\"Open In Colab\"/></a>"
      ]
    },
    {
      "cell_type": "markdown",
      "source": [
        "## Montaje\n"
      ],
      "metadata": {
        "id": "Ck_HJYkqkja0"
      }
    },
    {
      "cell_type": "markdown",
      "source": [
        "En sección se realiza todo el montaje previo al entrenamiento de los modelos. Particularmente, cargar la base de datos, definir variables y separar datos en entrenamiento, validación y testeo."
      ],
      "metadata": {
        "id": "FdyMuQLKKXsk"
      }
    },
    {
      "cell_type": "code",
      "execution_count": 1,
      "metadata": {
        "id": "nf_xXQAeDj4w"
      },
      "outputs": [],
      "source": [
        "import numpy as np\n",
        "import matplotlib.pyplot as plt\n",
        "import tensorflow as tf\n",
        "from sklearn.model_selection import train_test_split\n",
        "import time\n",
        "import pandas as pd"
      ]
    },
    {
      "cell_type": "code",
      "source": [
        "from google.colab import drive\n",
        "drive.mount('/content/drive', force_remount=True)"
      ],
      "metadata": {
        "id": "LHL75tDoDqc0",
        "colab": {
          "base_uri": "https://localhost:8080/"
        },
        "outputId": "5c0cef77-cae2-471d-c739-b18373589784"
      },
      "execution_count": 2,
      "outputs": [
        {
          "output_type": "stream",
          "name": "stdout",
          "text": [
            "Mounted at /content/drive\n"
          ]
        }
      ]
    },
    {
      "cell_type": "code",
      "source": [
        "path_archivo ='/content/drive/MyDrive/Tareas Módulo/Proyecto redshift fotométrico/Redshift.csv'\n",
        "data = pd.read_csv(path_archivo, skiprows=[0])"
      ],
      "metadata": {
        "id": "7C1_k-uoDzMa"
      },
      "execution_count": 4,
      "outputs": []
    },
    {
      "cell_type": "code",
      "source": [
        "datos = data[['redshift', 'u', 'g', 'r', 'i', 'z']]"
      ],
      "metadata": {
        "id": "Be47YAGDRxvB"
      },
      "execution_count": 5,
      "outputs": []
    },
    {
      "cell_type": "code",
      "source": [
        "training, validacion = np.split(datos, [int(.8*len(datos))])    # 80% para entrenamiento y testeo, 20% para validación\n",
        "x = training[['u', 'g', 'r', 'i', 'z']]\n",
        "y = training['redshift']\n",
        "x_train, x_test, y_train, y_test = train_test_split(x, y, test_size=.25)    # 75% para entrenamiento, 25% para testeo"
      ],
      "metadata": {
        "id": "dc_MF-32RzJB"
      },
      "execution_count": null,
      "outputs": []
    },
    {
      "cell_type": "code",
      "source": [
        "# Forma de cada set\n",
        "print(f'X_test: {x_test.shape}')\n",
        "print(f'y_test: {y_test.shape}')\n",
        "print(f'X_train: {x_train.shape}')\n",
        "print(f'y_train: {y_train.shape}')"
      ],
      "metadata": {
        "colab": {
          "base_uri": "https://localhost:8080/"
        },
        "id": "rlNMjGIBGh13",
        "outputId": "f2eb76f8-674b-4d72-de51-f2b48b245f33"
      },
      "execution_count": 9,
      "outputs": [
        {
          "output_type": "stream",
          "name": "stdout",
          "text": [
            "X_test: (100000, 5)\n",
            "y_test: (100000,)\n",
            "X_train: (300000, 5)\n",
            "y_train: (300000,)\n"
          ]
        }
      ]
    },
    {
      "cell_type": "markdown",
      "source": [
        "## Primer modelo"
      ],
      "metadata": {
        "id": "9QLiYKjujxb1"
      }
    },
    {
      "cell_type": "code",
      "source": [
        "# Un modelo simple de 1 neurona\n",
        "model1 = tf.keras.Sequential([\n",
        "    tf.keras.Input(shape=(5,)),\n",
        "    tf.keras.layers.Dense(units=1),\n",
        "], name='model1'\n",
        ")\n",
        "\n",
        "model1.summary()"
      ],
      "metadata": {
        "colab": {
          "base_uri": "https://localhost:8080/",
          "height": 170
        },
        "id": "DdmaSXtQIEOD",
        "outputId": "90c0cce6-b463-4cfa-c416-5d52fe0bc478"
      },
      "execution_count": 28,
      "outputs": [
        {
          "output_type": "display_data",
          "data": {
            "text/plain": [
              "\u001b[1mModel: \"model1\"\u001b[0m\n"
            ],
            "text/html": [
              "<pre style=\"white-space:pre;overflow-x:auto;line-height:normal;font-family:Menlo,'DejaVu Sans Mono',consolas,'Courier New',monospace\"><span style=\"font-weight: bold\">Model: \"model1\"</span>\n",
              "</pre>\n"
            ]
          },
          "metadata": {}
        },
        {
          "output_type": "display_data",
          "data": {
            "text/plain": [
              "┏━━━━━━━━━━━━━━━━━━━━━━━━━━━━━━━━━━━━━━┳━━━━━━━━━━━━━━━━━━━━━━━━━━━━━┳━━━━━━━━━━━━━━━━━┓\n",
              "┃\u001b[1m \u001b[0m\u001b[1mLayer (type)                        \u001b[0m\u001b[1m \u001b[0m┃\u001b[1m \u001b[0m\u001b[1mOutput Shape               \u001b[0m\u001b[1m \u001b[0m┃\u001b[1m \u001b[0m\u001b[1m        Param #\u001b[0m\u001b[1m \u001b[0m┃\n",
              "┡━━━━━━━━━━━━━━━━━━━━━━━━━━━━━━━━━━━━━━╇━━━━━━━━━━━━━━━━━━━━━━━━━━━━━╇━━━━━━━━━━━━━━━━━┩\n",
              "│ dense_5 (\u001b[38;5;33mDense\u001b[0m)                      │ (\u001b[38;5;45mNone\u001b[0m, \u001b[38;5;34m1\u001b[0m)                   │               \u001b[38;5;34m6\u001b[0m │\n",
              "└──────────────────────────────────────┴─────────────────────────────┴─────────────────┘\n"
            ],
            "text/html": [
              "<pre style=\"white-space:pre;overflow-x:auto;line-height:normal;font-family:Menlo,'DejaVu Sans Mono',consolas,'Courier New',monospace\">┏━━━━━━━━━━━━━━━━━━━━━━━━━━━━━━━━━━━━━━┳━━━━━━━━━━━━━━━━━━━━━━━━━━━━━┳━━━━━━━━━━━━━━━━━┓\n",
              "┃<span style=\"font-weight: bold\"> Layer (type)                         </span>┃<span style=\"font-weight: bold\"> Output Shape                </span>┃<span style=\"font-weight: bold\">         Param # </span>┃\n",
              "┡━━━━━━━━━━━━━━━━━━━━━━━━━━━━━━━━━━━━━━╇━━━━━━━━━━━━━━━━━━━━━━━━━━━━━╇━━━━━━━━━━━━━━━━━┩\n",
              "│ dense_5 (<span style=\"color: #0087ff; text-decoration-color: #0087ff\">Dense</span>)                      │ (<span style=\"color: #00d7ff; text-decoration-color: #00d7ff\">None</span>, <span style=\"color: #00af00; text-decoration-color: #00af00\">1</span>)                   │               <span style=\"color: #00af00; text-decoration-color: #00af00\">6</span> │\n",
              "└──────────────────────────────────────┴─────────────────────────────┴─────────────────┘\n",
              "</pre>\n"
            ]
          },
          "metadata": {}
        },
        {
          "output_type": "display_data",
          "data": {
            "text/plain": [
              "\u001b[1m Total params: \u001b[0m\u001b[38;5;34m6\u001b[0m (24.00 B)\n"
            ],
            "text/html": [
              "<pre style=\"white-space:pre;overflow-x:auto;line-height:normal;font-family:Menlo,'DejaVu Sans Mono',consolas,'Courier New',monospace\"><span style=\"font-weight: bold\"> Total params: </span><span style=\"color: #00af00; text-decoration-color: #00af00\">6</span> (24.00 B)\n",
              "</pre>\n"
            ]
          },
          "metadata": {}
        },
        {
          "output_type": "display_data",
          "data": {
            "text/plain": [
              "\u001b[1m Trainable params: \u001b[0m\u001b[38;5;34m6\u001b[0m (24.00 B)\n"
            ],
            "text/html": [
              "<pre style=\"white-space:pre;overflow-x:auto;line-height:normal;font-family:Menlo,'DejaVu Sans Mono',consolas,'Courier New',monospace\"><span style=\"font-weight: bold\"> Trainable params: </span><span style=\"color: #00af00; text-decoration-color: #00af00\">6</span> (24.00 B)\n",
              "</pre>\n"
            ]
          },
          "metadata": {}
        },
        {
          "output_type": "display_data",
          "data": {
            "text/plain": [
              "\u001b[1m Non-trainable params: \u001b[0m\u001b[38;5;34m0\u001b[0m (0.00 B)\n"
            ],
            "text/html": [
              "<pre style=\"white-space:pre;overflow-x:auto;line-height:normal;font-family:Menlo,'DejaVu Sans Mono',consolas,'Courier New',monospace\"><span style=\"font-weight: bold\"> Non-trainable params: </span><span style=\"color: #00af00; text-decoration-color: #00af00\">0</span> (0.00 B)\n",
              "</pre>\n"
            ]
          },
          "metadata": {}
        }
      ]
    },
    {
      "cell_type": "code",
      "source": [
        "model1.compile(optimizer='adam', loss='mean_squared_error')"
      ],
      "metadata": {
        "id": "ZOXR5DOJI1JT"
      },
      "execution_count": 29,
      "outputs": []
    },
    {
      "cell_type": "code",
      "source": [
        "t0 = time.time()\n",
        "hist1 = model1.fit(x_train, y_train, epochs=100, batch_size=512, verbose=2, validation_split=0.25)\n",
        "trainning_time_model1 = time.time() - t0"
      ],
      "metadata": {
        "colab": {
          "base_uri": "https://localhost:8080/"
        },
        "id": "M6qonSKbI9tI",
        "outputId": "8b2fb489-32a2-47cc-d740-be07742e1d4e"
      },
      "execution_count": 30,
      "outputs": [
        {
          "output_type": "stream",
          "name": "stdout",
          "text": [
            "Epoch 1/100\n",
            "440/440 - 2s - 4ms/step - loss: 0.6266 - val_loss: 0.5298\n",
            "Epoch 2/100\n",
            "440/440 - 1s - 2ms/step - loss: 0.4652 - val_loss: 0.3991\n",
            "Epoch 3/100\n",
            "440/440 - 1s - 3ms/step - loss: 0.3344 - val_loss: 0.2738\n",
            "Epoch 4/100\n",
            "440/440 - 1s - 3ms/step - loss: 0.2221 - val_loss: 0.1762\n",
            "Epoch 5/100\n",
            "440/440 - 1s - 2ms/step - loss: 0.1418 - val_loss: 0.1126\n",
            "Epoch 6/100\n",
            "440/440 - 1s - 2ms/step - loss: 0.0933 - val_loss: 0.0768\n",
            "Epoch 7/100\n",
            "440/440 - 1s - 2ms/step - loss: 0.0680 - val_loss: 0.0595\n",
            "Epoch 8/100\n",
            "440/440 - 1s - 3ms/step - loss: 0.0561 - val_loss: 0.0515\n",
            "Epoch 9/100\n",
            "440/440 - 1s - 3ms/step - loss: 0.0501 - val_loss: 0.0464\n",
            "Epoch 10/100\n",
            "440/440 - 1s - 2ms/step - loss: 0.0458 - val_loss: 0.0430\n",
            "Epoch 11/100\n",
            "440/440 - 1s - 2ms/step - loss: 0.0422 - val_loss: 0.0391\n",
            "Epoch 12/100\n",
            "440/440 - 1s - 3ms/step - loss: 0.0386 - val_loss: 0.0359\n",
            "Epoch 13/100\n",
            "440/440 - 1s - 3ms/step - loss: 0.0352 - val_loss: 0.0327\n",
            "Epoch 14/100\n",
            "440/440 - 1s - 2ms/step - loss: 0.0321 - val_loss: 0.0300\n",
            "Epoch 15/100\n",
            "440/440 - 1s - 3ms/step - loss: 0.0292 - val_loss: 0.0274\n",
            "Epoch 16/100\n",
            "440/440 - 1s - 2ms/step - loss: 0.0266 - val_loss: 0.0245\n",
            "Epoch 17/100\n",
            "440/440 - 1s - 2ms/step - loss: 0.0244 - val_loss: 0.0232\n",
            "Epoch 18/100\n",
            "440/440 - 1s - 2ms/step - loss: 0.0223 - val_loss: 0.0206\n",
            "Epoch 19/100\n",
            "440/440 - 1s - 3ms/step - loss: 0.0206 - val_loss: 0.0190\n",
            "Epoch 20/100\n",
            "440/440 - 1s - 3ms/step - loss: 0.0190 - val_loss: 0.0177\n",
            "Epoch 21/100\n",
            "440/440 - 1s - 3ms/step - loss: 0.0175 - val_loss: 0.0163\n",
            "Epoch 22/100\n",
            "440/440 - 1s - 3ms/step - loss: 0.0162 - val_loss: 0.0152\n",
            "Epoch 23/100\n",
            "440/440 - 1s - 2ms/step - loss: 0.0151 - val_loss: 0.0141\n",
            "Epoch 24/100\n",
            "440/440 - 1s - 3ms/step - loss: 0.0141 - val_loss: 0.0132\n",
            "Epoch 25/100\n",
            "440/440 - 1s - 2ms/step - loss: 0.0133 - val_loss: 0.0124\n",
            "Epoch 26/100\n",
            "440/440 - 1s - 2ms/step - loss: 0.0125 - val_loss: 0.0118\n",
            "Epoch 27/100\n",
            "440/440 - 1s - 3ms/step - loss: 0.0118 - val_loss: 0.0112\n",
            "Epoch 28/100\n",
            "440/440 - 1s - 3ms/step - loss: 0.0113 - val_loss: 0.0106\n",
            "Epoch 29/100\n",
            "440/440 - 1s - 3ms/step - loss: 0.0107 - val_loss: 0.0103\n",
            "Epoch 30/100\n",
            "440/440 - 1s - 2ms/step - loss: 0.0103 - val_loss: 0.0098\n",
            "Epoch 31/100\n",
            "440/440 - 1s - 2ms/step - loss: 0.0100 - val_loss: 0.0095\n",
            "Epoch 32/100\n",
            "440/440 - 1s - 3ms/step - loss: 0.0096 - val_loss: 0.0092\n",
            "Epoch 33/100\n",
            "440/440 - 1s - 2ms/step - loss: 0.0093 - val_loss: 0.0089\n",
            "Epoch 34/100\n",
            "440/440 - 1s - 3ms/step - loss: 0.0091 - val_loss: 0.0089\n",
            "Epoch 35/100\n",
            "440/440 - 1s - 2ms/step - loss: 0.0088 - val_loss: 0.0090\n",
            "Epoch 36/100\n",
            "440/440 - 1s - 3ms/step - loss: 0.0086 - val_loss: 0.0083\n",
            "Epoch 37/100\n",
            "440/440 - 1s - 3ms/step - loss: 0.0084 - val_loss: 0.0083\n",
            "Epoch 38/100\n",
            "440/440 - 1s - 2ms/step - loss: 0.0083 - val_loss: 0.0085\n",
            "Epoch 39/100\n",
            "440/440 - 2s - 4ms/step - loss: 0.0082 - val_loss: 0.0079\n",
            "Epoch 40/100\n",
            "440/440 - 1s - 3ms/step - loss: 0.0080 - val_loss: 0.0079\n",
            "Epoch 41/100\n",
            "440/440 - 1s - 2ms/step - loss: 0.0079 - val_loss: 0.0077\n",
            "Epoch 42/100\n",
            "440/440 - 1s - 3ms/step - loss: 0.0078 - val_loss: 0.0079\n",
            "Epoch 43/100\n",
            "440/440 - 1s - 2ms/step - loss: 0.0077 - val_loss: 0.0076\n",
            "Epoch 44/100\n",
            "440/440 - 1s - 3ms/step - loss: 0.0076 - val_loss: 0.0075\n",
            "Epoch 45/100\n",
            "440/440 - 1s - 2ms/step - loss: 0.0076 - val_loss: 0.0074\n",
            "Epoch 46/100\n",
            "440/440 - 1s - 2ms/step - loss: 0.0075 - val_loss: 0.0075\n",
            "Epoch 47/100\n",
            "440/440 - 1s - 3ms/step - loss: 0.0074 - val_loss: 0.0075\n",
            "Epoch 48/100\n",
            "440/440 - 1s - 3ms/step - loss: 0.0074 - val_loss: 0.0075\n",
            "Epoch 49/100\n",
            "440/440 - 1s - 3ms/step - loss: 0.0073 - val_loss: 0.0073\n",
            "Epoch 50/100\n",
            "440/440 - 1s - 2ms/step - loss: 0.0073 - val_loss: 0.0075\n",
            "Epoch 51/100\n",
            "440/440 - 1s - 2ms/step - loss: 0.0073 - val_loss: 0.0073\n",
            "Epoch 52/100\n",
            "440/440 - 1s - 3ms/step - loss: 0.0073 - val_loss: 0.0077\n",
            "Epoch 53/100\n",
            "440/440 - 1s - 3ms/step - loss: 0.0072 - val_loss: 0.0072\n",
            "Epoch 54/100\n",
            "440/440 - 1s - 2ms/step - loss: 0.0072 - val_loss: 0.0071\n",
            "Epoch 55/100\n",
            "440/440 - 1s - 2ms/step - loss: 0.0072 - val_loss: 0.0071\n",
            "Epoch 56/100\n",
            "440/440 - 1s - 3ms/step - loss: 0.0072 - val_loss: 0.0078\n",
            "Epoch 57/100\n",
            "440/440 - 1s - 3ms/step - loss: 0.0072 - val_loss: 0.0071\n",
            "Epoch 58/100\n",
            "440/440 - 1s - 3ms/step - loss: 0.0071 - val_loss: 0.0072\n",
            "Epoch 59/100\n",
            "440/440 - 1s - 3ms/step - loss: 0.0071 - val_loss: 0.0071\n",
            "Epoch 60/100\n",
            "440/440 - 1s - 3ms/step - loss: 0.0071 - val_loss: 0.0071\n",
            "Epoch 61/100\n",
            "440/440 - 1s - 2ms/step - loss: 0.0071 - val_loss: 0.0071\n",
            "Epoch 62/100\n",
            "440/440 - 1s - 3ms/step - loss: 0.0070 - val_loss: 0.0071\n",
            "Epoch 63/100\n",
            "440/440 - 2s - 4ms/step - loss: 0.0071 - val_loss: 0.0071\n",
            "Epoch 64/100\n",
            "440/440 - 1s - 3ms/step - loss: 0.0071 - val_loss: 0.0073\n",
            "Epoch 65/100\n",
            "440/440 - 1s - 2ms/step - loss: 0.0070 - val_loss: 0.0071\n",
            "Epoch 66/100\n",
            "440/440 - 1s - 3ms/step - loss: 0.0071 - val_loss: 0.0070\n",
            "Epoch 67/100\n",
            "440/440 - 1s - 3ms/step - loss: 0.0071 - val_loss: 0.0076\n",
            "Epoch 68/100\n",
            "440/440 - 1s - 3ms/step - loss: 0.0070 - val_loss: 0.0071\n",
            "Epoch 69/100\n",
            "440/440 - 1s - 2ms/step - loss: 0.0070 - val_loss: 0.0072\n",
            "Epoch 70/100\n",
            "440/440 - 1s - 2ms/step - loss: 0.0070 - val_loss: 0.0070\n",
            "Epoch 71/100\n",
            "440/440 - 1s - 3ms/step - loss: 0.0070 - val_loss: 0.0070\n",
            "Epoch 72/100\n",
            "440/440 - 1s - 3ms/step - loss: 0.0070 - val_loss: 0.0071\n",
            "Epoch 73/100\n",
            "440/440 - 1s - 2ms/step - loss: 0.0071 - val_loss: 0.0070\n",
            "Epoch 74/100\n",
            "440/440 - 1s - 2ms/step - loss: 0.0070 - val_loss: 0.0070\n",
            "Epoch 75/100\n",
            "440/440 - 1s - 3ms/step - loss: 0.0070 - val_loss: 0.0071\n",
            "Epoch 76/100\n",
            "440/440 - 1s - 3ms/step - loss: 0.0070 - val_loss: 0.0070\n",
            "Epoch 77/100\n",
            "440/440 - 1s - 2ms/step - loss: 0.0070 - val_loss: 0.0070\n",
            "Epoch 78/100\n",
            "440/440 - 1s - 2ms/step - loss: 0.0070 - val_loss: 0.0070\n",
            "Epoch 79/100\n",
            "440/440 - 1s - 2ms/step - loss: 0.0070 - val_loss: 0.0070\n",
            "Epoch 80/100\n",
            "440/440 - 1s - 3ms/step - loss: 0.0070 - val_loss: 0.0071\n",
            "Epoch 81/100\n",
            "440/440 - 1s - 2ms/step - loss: 0.0070 - val_loss: 0.0070\n",
            "Epoch 82/100\n",
            "440/440 - 1s - 2ms/step - loss: 0.0070 - val_loss: 0.0070\n",
            "Epoch 83/100\n",
            "440/440 - 1s - 2ms/step - loss: 0.0070 - val_loss: 0.0070\n",
            "Epoch 84/100\n",
            "440/440 - 1s - 2ms/step - loss: 0.0070 - val_loss: 0.0071\n",
            "Epoch 85/100\n",
            "440/440 - 1s - 3ms/step - loss: 0.0070 - val_loss: 0.0070\n",
            "Epoch 86/100\n",
            "440/440 - 1s - 2ms/step - loss: 0.0070 - val_loss: 0.0070\n",
            "Epoch 87/100\n",
            "440/440 - 1s - 2ms/step - loss: 0.0070 - val_loss: 0.0073\n",
            "Epoch 88/100\n",
            "440/440 - 1s - 3ms/step - loss: 0.0070 - val_loss: 0.0071\n",
            "Epoch 89/100\n",
            "440/440 - 1s - 2ms/step - loss: 0.0070 - val_loss: 0.0070\n",
            "Epoch 90/100\n",
            "440/440 - 1s - 2ms/step - loss: 0.0070 - val_loss: 0.0070\n",
            "Epoch 91/100\n",
            "440/440 - 1s - 2ms/step - loss: 0.0070 - val_loss: 0.0070\n",
            "Epoch 92/100\n",
            "440/440 - 1s - 2ms/step - loss: 0.0070 - val_loss: 0.0076\n",
            "Epoch 93/100\n",
            "440/440 - 1s - 2ms/step - loss: 0.0070 - val_loss: 0.0070\n",
            "Epoch 94/100\n",
            "440/440 - 1s - 2ms/step - loss: 0.0070 - val_loss: 0.0071\n",
            "Epoch 95/100\n",
            "440/440 - 1s - 3ms/step - loss: 0.0070 - val_loss: 0.0070\n",
            "Epoch 96/100\n",
            "440/440 - 1s - 2ms/step - loss: 0.0070 - val_loss: 0.0070\n",
            "Epoch 97/100\n",
            "440/440 - 1s - 3ms/step - loss: 0.0070 - val_loss: 0.0070\n",
            "Epoch 98/100\n",
            "440/440 - 1s - 2ms/step - loss: 0.0070 - val_loss: 0.0070\n",
            "Epoch 99/100\n",
            "440/440 - 1s - 2ms/step - loss: 0.0070 - val_loss: 0.0071\n",
            "Epoch 100/100\n",
            "440/440 - 1s - 2ms/step - loss: 0.0070 - val_loss: 0.0070\n"
          ]
        }
      ]
    },
    {
      "cell_type": "code",
      "source": [
        "model1_loss = model1.evaluate(x_test, y_test, verbose=0)\n",
        "\n",
        "print(f\"Model 1 loss: {model1_loss}\")"
      ],
      "metadata": {
        "id": "fWbAb4ysLSXT",
        "colab": {
          "base_uri": "https://localhost:8080/"
        },
        "outputId": "333708eb-0aeb-498b-ec68-63bfd00b8676"
      },
      "execution_count": 31,
      "outputs": [
        {
          "output_type": "stream",
          "name": "stdout",
          "text": [
            "Model 1 loss: 0.007015911862254143\n"
          ]
        }
      ]
    },
    {
      "cell_type": "code",
      "source": [
        "model1.save(\"/content/drive/MyDrive/Tareas Módulo/Proyecto redshift fotométrico/ Modelo1.keras\")"
      ],
      "metadata": {
        "id": "lhqh2gkvp2GE"
      },
      "execution_count": 32,
      "outputs": []
    },
    {
      "cell_type": "markdown",
      "source": [
        "## Modelo 2"
      ],
      "metadata": {
        "id": "dEtZV7YNn9j_"
      }
    },
    {
      "cell_type": "code",
      "source": [
        "# Modelo con 3 capas de 10 neuronas cada una\n",
        "model2 = tf.keras.Sequential([\n",
        "    tf.keras.Input(shape=(5,)),\n",
        "    tf.keras.layers.Dense(units=10, activation=\"relu\"),\n",
        "    tf.keras.layers.Dense(units=10, activation=\"relu\"),\n",
        "    tf.keras.layers.Dense(units=10, activation=\"relu\"),\n",
        "    tf.keras.layers.Dense(units=1, activation=\"linear\")\n",
        "], name='model2')\n",
        "\n",
        "model2.summary()"
      ],
      "metadata": {
        "colab": {
          "base_uri": "https://localhost:8080/",
          "height": 272
        },
        "id": "KqpUG3PjSjym",
        "outputId": "1b5253a5-c077-4610-c463-86792841d49f"
      },
      "execution_count": 33,
      "outputs": [
        {
          "output_type": "display_data",
          "data": {
            "text/plain": [
              "\u001b[1mModel: \"model2\"\u001b[0m\n"
            ],
            "text/html": [
              "<pre style=\"white-space:pre;overflow-x:auto;line-height:normal;font-family:Menlo,'DejaVu Sans Mono',consolas,'Courier New',monospace\"><span style=\"font-weight: bold\">Model: \"model2\"</span>\n",
              "</pre>\n"
            ]
          },
          "metadata": {}
        },
        {
          "output_type": "display_data",
          "data": {
            "text/plain": [
              "┏━━━━━━━━━━━━━━━━━━━━━━━━━━━━━━━━━━━━━━┳━━━━━━━━━━━━━━━━━━━━━━━━━━━━━┳━━━━━━━━━━━━━━━━━┓\n",
              "┃\u001b[1m \u001b[0m\u001b[1mLayer (type)                        \u001b[0m\u001b[1m \u001b[0m┃\u001b[1m \u001b[0m\u001b[1mOutput Shape               \u001b[0m\u001b[1m \u001b[0m┃\u001b[1m \u001b[0m\u001b[1m        Param #\u001b[0m\u001b[1m \u001b[0m┃\n",
              "┡━━━━━━━━━━━━━━━━━━━━━━━━━━━━━━━━━━━━━━╇━━━━━━━━━━━━━━━━━━━━━━━━━━━━━╇━━━━━━━━━━━━━━━━━┩\n",
              "│ dense_6 (\u001b[38;5;33mDense\u001b[0m)                      │ (\u001b[38;5;45mNone\u001b[0m, \u001b[38;5;34m10\u001b[0m)                  │              \u001b[38;5;34m60\u001b[0m │\n",
              "├──────────────────────────────────────┼─────────────────────────────┼─────────────────┤\n",
              "│ dense_7 (\u001b[38;5;33mDense\u001b[0m)                      │ (\u001b[38;5;45mNone\u001b[0m, \u001b[38;5;34m10\u001b[0m)                  │             \u001b[38;5;34m110\u001b[0m │\n",
              "├──────────────────────────────────────┼─────────────────────────────┼─────────────────┤\n",
              "│ dense_8 (\u001b[38;5;33mDense\u001b[0m)                      │ (\u001b[38;5;45mNone\u001b[0m, \u001b[38;5;34m10\u001b[0m)                  │             \u001b[38;5;34m110\u001b[0m │\n",
              "├──────────────────────────────────────┼─────────────────────────────┼─────────────────┤\n",
              "│ dense_9 (\u001b[38;5;33mDense\u001b[0m)                      │ (\u001b[38;5;45mNone\u001b[0m, \u001b[38;5;34m1\u001b[0m)                   │              \u001b[38;5;34m11\u001b[0m │\n",
              "└──────────────────────────────────────┴─────────────────────────────┴─────────────────┘\n"
            ],
            "text/html": [
              "<pre style=\"white-space:pre;overflow-x:auto;line-height:normal;font-family:Menlo,'DejaVu Sans Mono',consolas,'Courier New',monospace\">┏━━━━━━━━━━━━━━━━━━━━━━━━━━━━━━━━━━━━━━┳━━━━━━━━━━━━━━━━━━━━━━━━━━━━━┳━━━━━━━━━━━━━━━━━┓\n",
              "┃<span style=\"font-weight: bold\"> Layer (type)                         </span>┃<span style=\"font-weight: bold\"> Output Shape                </span>┃<span style=\"font-weight: bold\">         Param # </span>┃\n",
              "┡━━━━━━━━━━━━━━━━━━━━━━━━━━━━━━━━━━━━━━╇━━━━━━━━━━━━━━━━━━━━━━━━━━━━━╇━━━━━━━━━━━━━━━━━┩\n",
              "│ dense_6 (<span style=\"color: #0087ff; text-decoration-color: #0087ff\">Dense</span>)                      │ (<span style=\"color: #00d7ff; text-decoration-color: #00d7ff\">None</span>, <span style=\"color: #00af00; text-decoration-color: #00af00\">10</span>)                  │              <span style=\"color: #00af00; text-decoration-color: #00af00\">60</span> │\n",
              "├──────────────────────────────────────┼─────────────────────────────┼─────────────────┤\n",
              "│ dense_7 (<span style=\"color: #0087ff; text-decoration-color: #0087ff\">Dense</span>)                      │ (<span style=\"color: #00d7ff; text-decoration-color: #00d7ff\">None</span>, <span style=\"color: #00af00; text-decoration-color: #00af00\">10</span>)                  │             <span style=\"color: #00af00; text-decoration-color: #00af00\">110</span> │\n",
              "├──────────────────────────────────────┼─────────────────────────────┼─────────────────┤\n",
              "│ dense_8 (<span style=\"color: #0087ff; text-decoration-color: #0087ff\">Dense</span>)                      │ (<span style=\"color: #00d7ff; text-decoration-color: #00d7ff\">None</span>, <span style=\"color: #00af00; text-decoration-color: #00af00\">10</span>)                  │             <span style=\"color: #00af00; text-decoration-color: #00af00\">110</span> │\n",
              "├──────────────────────────────────────┼─────────────────────────────┼─────────────────┤\n",
              "│ dense_9 (<span style=\"color: #0087ff; text-decoration-color: #0087ff\">Dense</span>)                      │ (<span style=\"color: #00d7ff; text-decoration-color: #00d7ff\">None</span>, <span style=\"color: #00af00; text-decoration-color: #00af00\">1</span>)                   │              <span style=\"color: #00af00; text-decoration-color: #00af00\">11</span> │\n",
              "└──────────────────────────────────────┴─────────────────────────────┴─────────────────┘\n",
              "</pre>\n"
            ]
          },
          "metadata": {}
        },
        {
          "output_type": "display_data",
          "data": {
            "text/plain": [
              "\u001b[1m Total params: \u001b[0m\u001b[38;5;34m291\u001b[0m (1.14 KB)\n"
            ],
            "text/html": [
              "<pre style=\"white-space:pre;overflow-x:auto;line-height:normal;font-family:Menlo,'DejaVu Sans Mono',consolas,'Courier New',monospace\"><span style=\"font-weight: bold\"> Total params: </span><span style=\"color: #00af00; text-decoration-color: #00af00\">291</span> (1.14 KB)\n",
              "</pre>\n"
            ]
          },
          "metadata": {}
        },
        {
          "output_type": "display_data",
          "data": {
            "text/plain": [
              "\u001b[1m Trainable params: \u001b[0m\u001b[38;5;34m291\u001b[0m (1.14 KB)\n"
            ],
            "text/html": [
              "<pre style=\"white-space:pre;overflow-x:auto;line-height:normal;font-family:Menlo,'DejaVu Sans Mono',consolas,'Courier New',monospace\"><span style=\"font-weight: bold\"> Trainable params: </span><span style=\"color: #00af00; text-decoration-color: #00af00\">291</span> (1.14 KB)\n",
              "</pre>\n"
            ]
          },
          "metadata": {}
        },
        {
          "output_type": "display_data",
          "data": {
            "text/plain": [
              "\u001b[1m Non-trainable params: \u001b[0m\u001b[38;5;34m0\u001b[0m (0.00 B)\n"
            ],
            "text/html": [
              "<pre style=\"white-space:pre;overflow-x:auto;line-height:normal;font-family:Menlo,'DejaVu Sans Mono',consolas,'Courier New',monospace\"><span style=\"font-weight: bold\"> Non-trainable params: </span><span style=\"color: #00af00; text-decoration-color: #00af00\">0</span> (0.00 B)\n",
              "</pre>\n"
            ]
          },
          "metadata": {}
        }
      ]
    },
    {
      "cell_type": "code",
      "source": [
        "model2.compile(optimizer=\"adam\", loss='mean_squared_error')"
      ],
      "metadata": {
        "id": "Z-VeBVUsq_0M"
      },
      "execution_count": 34,
      "outputs": []
    },
    {
      "cell_type": "code",
      "source": [
        "t0 = time.time()\n",
        "\n",
        "hist2 = model2.fit(x_train, y_train, epochs=50, batch_size=256, verbose=2, validation_split=0.25)\n",
        "trainning_time_model2 = time.time() - t0"
      ],
      "metadata": {
        "colab": {
          "base_uri": "https://localhost:8080/"
        },
        "id": "A6jYovFXrDDS",
        "outputId": "997f7d22-e617-46dd-f1f7-57f12ce92deb"
      },
      "execution_count": 35,
      "outputs": [
        {
          "output_type": "stream",
          "name": "stdout",
          "text": [
            "Epoch 1/50\n",
            "879/879 - 6s - 6ms/step - loss: 0.3444 - val_loss: 0.0431\n",
            "Epoch 2/50\n",
            "879/879 - 2s - 2ms/step - loss: 0.0360 - val_loss: 0.0309\n",
            "Epoch 3/50\n",
            "879/879 - 3s - 3ms/step - loss: 0.0270 - val_loss: 0.0234\n",
            "Epoch 4/50\n",
            "879/879 - 2s - 2ms/step - loss: 0.0200 - val_loss: 0.0168\n",
            "Epoch 5/50\n",
            "879/879 - 2s - 2ms/step - loss: 0.0133 - val_loss: 0.0108\n",
            "Epoch 6/50\n",
            "879/879 - 3s - 3ms/step - loss: 0.0096 - val_loss: 0.0089\n",
            "Epoch 7/50\n",
            "879/879 - 3s - 3ms/step - loss: 0.0090 - val_loss: 0.0093\n",
            "Epoch 8/50\n",
            "879/879 - 2s - 2ms/step - loss: 0.0088 - val_loss: 0.0085\n",
            "Epoch 9/50\n",
            "879/879 - 3s - 3ms/step - loss: 0.0087 - val_loss: 0.0089\n",
            "Epoch 10/50\n",
            "879/879 - 2s - 2ms/step - loss: 0.0085 - val_loss: 0.0082\n",
            "Epoch 11/50\n",
            "879/879 - 3s - 3ms/step - loss: 0.0084 - val_loss: 0.0086\n",
            "Epoch 12/50\n",
            "879/879 - 3s - 3ms/step - loss: 0.0083 - val_loss: 0.0083\n",
            "Epoch 13/50\n",
            "879/879 - 2s - 2ms/step - loss: 0.0081 - val_loss: 0.0080\n",
            "Epoch 14/50\n",
            "879/879 - 2s - 2ms/step - loss: 0.0080 - val_loss: 0.0077\n",
            "Epoch 15/50\n",
            "879/879 - 2s - 2ms/step - loss: 0.0079 - val_loss: 0.0076\n",
            "Epoch 16/50\n",
            "879/879 - 3s - 3ms/step - loss: 0.0077 - val_loss: 0.0077\n",
            "Epoch 17/50\n",
            "879/879 - 3s - 3ms/step - loss: 0.0076 - val_loss: 0.0073\n",
            "Epoch 18/50\n",
            "879/879 - 2s - 2ms/step - loss: 0.0075 - val_loss: 0.0073\n",
            "Epoch 19/50\n",
            "879/879 - 2s - 3ms/step - loss: 0.0074 - val_loss: 0.0071\n",
            "Epoch 20/50\n",
            "879/879 - 2s - 2ms/step - loss: 0.0073 - val_loss: 0.0071\n",
            "Epoch 21/50\n",
            "879/879 - 2s - 2ms/step - loss: 0.0070 - val_loss: 0.0068\n",
            "Epoch 22/50\n",
            "879/879 - 2s - 2ms/step - loss: 0.0064 - val_loss: 0.0061\n",
            "Epoch 23/50\n",
            "879/879 - 3s - 3ms/step - loss: 0.0062 - val_loss: 0.0061\n",
            "Epoch 24/50\n",
            "879/879 - 2s - 2ms/step - loss: 0.0062 - val_loss: 0.0060\n",
            "Epoch 25/50\n",
            "879/879 - 3s - 4ms/step - loss: 0.0060 - val_loss: 0.0067\n",
            "Epoch 26/50\n",
            "879/879 - 3s - 3ms/step - loss: 0.0060 - val_loss: 0.0060\n",
            "Epoch 27/50\n",
            "879/879 - 5s - 5ms/step - loss: 0.0060 - val_loss: 0.0058\n",
            "Epoch 28/50\n",
            "879/879 - 2s - 3ms/step - loss: 0.0059 - val_loss: 0.0059\n",
            "Epoch 29/50\n",
            "879/879 - 3s - 4ms/step - loss: 0.0059 - val_loss: 0.0058\n",
            "Epoch 30/50\n",
            "879/879 - 4s - 5ms/step - loss: 0.0058 - val_loss: 0.0057\n",
            "Epoch 31/50\n",
            "879/879 - 2s - 2ms/step - loss: 0.0058 - val_loss: 0.0068\n",
            "Epoch 32/50\n",
            "879/879 - 3s - 3ms/step - loss: 0.0057 - val_loss: 0.0057\n",
            "Epoch 33/50\n",
            "879/879 - 2s - 2ms/step - loss: 0.0057 - val_loss: 0.0057\n",
            "Epoch 34/50\n",
            "879/879 - 3s - 3ms/step - loss: 0.0057 - val_loss: 0.0058\n",
            "Epoch 35/50\n",
            "879/879 - 5s - 5ms/step - loss: 0.0057 - val_loss: 0.0055\n",
            "Epoch 36/50\n",
            "879/879 - 2s - 3ms/step - loss: 0.0057 - val_loss: 0.0055\n",
            "Epoch 37/50\n",
            "879/879 - 2s - 2ms/step - loss: 0.0056 - val_loss: 0.0055\n",
            "Epoch 38/50\n",
            "879/879 - 4s - 5ms/step - loss: 0.0056 - val_loss: 0.0056\n",
            "Epoch 39/50\n",
            "879/879 - 4s - 5ms/step - loss: 0.0055 - val_loss: 0.0057\n",
            "Epoch 40/50\n",
            "879/879 - 2s - 2ms/step - loss: 0.0055 - val_loss: 0.0055\n",
            "Epoch 41/50\n",
            "879/879 - 3s - 3ms/step - loss: 0.0055 - val_loss: 0.0059\n",
            "Epoch 42/50\n",
            "879/879 - 2s - 2ms/step - loss: 0.0055 - val_loss: 0.0054\n",
            "Epoch 43/50\n",
            "879/879 - 2s - 3ms/step - loss: 0.0055 - val_loss: 0.0054\n",
            "Epoch 44/50\n",
            "879/879 - 2s - 2ms/step - loss: 0.0054 - val_loss: 0.0055\n",
            "Epoch 45/50\n",
            "879/879 - 2s - 2ms/step - loss: 0.0054 - val_loss: 0.0053\n",
            "Epoch 46/50\n",
            "879/879 - 3s - 3ms/step - loss: 0.0054 - val_loss: 0.0055\n",
            "Epoch 47/50\n",
            "879/879 - 2s - 2ms/step - loss: 0.0053 - val_loss: 0.0061\n",
            "Epoch 48/50\n",
            "879/879 - 2s - 3ms/step - loss: 0.0053 - val_loss: 0.0054\n",
            "Epoch 49/50\n",
            "879/879 - 3s - 4ms/step - loss: 0.0053 - val_loss: 0.0053\n",
            "Epoch 50/50\n",
            "879/879 - 2s - 2ms/step - loss: 0.0052 - val_loss: 0.0052\n"
          ]
        }
      ]
    },
    {
      "cell_type": "code",
      "source": [
        "model2_loss = model2.evaluate(x_test, y_test, verbose=0)\n",
        "\n",
        "print(f\"Model 2 loss: {model2_loss}\")"
      ],
      "metadata": {
        "colab": {
          "base_uri": "https://localhost:8080/"
        },
        "id": "3b8Y93d3tU_F",
        "outputId": "da43ae42-b39b-48c8-d7c3-73266d1d967b"
      },
      "execution_count": 36,
      "outputs": [
        {
          "output_type": "stream",
          "name": "stdout",
          "text": [
            "Model 2 loss: 0.005074726417660713\n"
          ]
        }
      ]
    },
    {
      "cell_type": "code",
      "source": [
        "model2.save(\"/content/drive/MyDrive/Tareas Módulo/Proyecto redshift fotométrico/ Modelo2.keras\")"
      ],
      "metadata": {
        "id": "1-kuadoO5MGD"
      },
      "execution_count": 37,
      "outputs": []
    }
  ]
}