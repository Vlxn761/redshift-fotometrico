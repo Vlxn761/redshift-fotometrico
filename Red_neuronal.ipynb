{
  "nbformat": 4,
  "nbformat_minor": 0,
  "metadata": {
    "colab": {
      "provenance": [],
      "gpuType": "T4",
      "include_colab_link": true
    },
    "kernelspec": {
      "name": "python3",
      "display_name": "Python 3"
    },
    "language_info": {
      "name": "python"
    },
    "accelerator": "GPU"
  },
  "cells": [
    {
      "cell_type": "markdown",
      "metadata": {
        "id": "view-in-github",
        "colab_type": "text"
      },
      "source": [
        "<a href=\"https://colab.research.google.com/github/Vlxn761/redshift-fotometrico/blob/main/Red_neuronal.ipynb\" target=\"_parent\"><img src=\"https://colab.research.google.com/assets/colab-badge.svg\" alt=\"Open In Colab\"/></a>"
      ]
    },
    {
      "cell_type": "markdown",
      "source": [
        "## Montaje\n"
      ],
      "metadata": {
        "id": "Ck_HJYkqkja0"
      }
    },
    {
      "cell_type": "code",
      "execution_count": null,
      "metadata": {
        "id": "nf_xXQAeDj4w"
      },
      "outputs": [],
      "source": [
        "import numpy as np\n",
        "import matplotlib.pyplot as plt\n",
        "import tensorflow as tf\n",
        "from sklearn.model_selection import train_test_split\n",
        "import time\n",
        "import pandas as pd"
      ]
    },
    {
      "cell_type": "code",
      "source": [
        "from google.colab import drive\n",
        "drive.mount('/content/drive', force_remount=True)"
      ],
      "metadata": {
        "id": "LHL75tDoDqc0",
        "colab": {
          "base_uri": "https://localhost:8080/"
        },
        "outputId": "22cf6978-bf98-420a-8e15-1c50f19a3855"
      },
      "execution_count": null,
      "outputs": [
        {
          "output_type": "stream",
          "name": "stdout",
          "text": [
            "Mounted at /content/drive\n"
          ]
        }
      ]
    },
    {
      "cell_type": "code",
      "source": [
        "path_archivo ='/content/drive/MyDrive/Tareas Módulo/Proyecto redshift fotométrico/Redshift con sigma final.csv'\n",
        "data = pd.read_csv(path_archivo, skiprows=[0])"
      ],
      "metadata": {
        "id": "7C1_k-uoDzMa"
      },
      "execution_count": null,
      "outputs": []
    },
    {
      "cell_type": "code",
      "source": [
        "redshift = data['redshift']\n",
        "redshift_err = data['zerr']\n",
        "(u, g, r, i, z) = data['u'], data['g'], data['r'], data['i'], data['z']"
      ],
      "metadata": {
        "id": "RgJVeoiRD6bE"
      },
      "execution_count": null,
      "outputs": []
    },
    {
      "cell_type": "code",
      "source": [
        "datos = np.array([u, g, r, i, z]).T"
      ],
      "metadata": {
        "id": "9sCauEv4EoPt"
      },
      "execution_count": null,
      "outputs": []
    },
    {
      "cell_type": "code",
      "source": [
        "x_train, x_test, y_train, y_test = train_test_split(datos, redshift, test_size=.25)"
      ],
      "metadata": {
        "id": "Rrre4aBEFxrY"
      },
      "execution_count": null,
      "outputs": []
    },
    {
      "cell_type": "code",
      "source": [
        "# Forma de cada set\n",
        "print(f'X_test: {x_test.shape}')\n",
        "print(f'y_test: {y_test.shape}')\n",
        "print(f'X_train: {x_train.shape}')\n",
        "print(f'y_train: {y_train.shape}')"
      ],
      "metadata": {
        "colab": {
          "base_uri": "https://localhost:8080/"
        },
        "id": "rlNMjGIBGh13",
        "outputId": "3a1f7014-5203-4ed0-f128-8ca6aef17e6c"
      },
      "execution_count": null,
      "outputs": [
        {
          "output_type": "stream",
          "name": "stdout",
          "text": [
            "X_test: (125000, 5)\n",
            "y_test: (125000,)\n",
            "X_train: (375000, 5)\n",
            "y_train: (375000,)\n"
          ]
        }
      ]
    },
    {
      "cell_type": "markdown",
      "source": [
        "## Primer modelo"
      ],
      "metadata": {
        "id": "9QLiYKjujxb1"
      }
    },
    {
      "cell_type": "code",
      "source": [
        "model1 = tf.keras.Sequential([\n",
        "    tf.keras.Input(shape=(5,)), # What shape will have the data that the model receives\n",
        "    tf.keras.layers.Dense(units=1), # What shape should have the output\n",
        "], name='model1' # And we can allways give our model a name\n",
        ")\n",
        "\n",
        "# we can always visualize the model's arquitecture like this\n",
        "model1.summary()"
      ],
      "metadata": {
        "colab": {
          "base_uri": "https://localhost:8080/",
          "height": 176
        },
        "id": "DdmaSXtQIEOD",
        "outputId": "f849c408-ebef-4c2f-caeb-b7206c142fb5"
      },
      "execution_count": null,
      "outputs": [
        {
          "output_type": "display_data",
          "data": {
            "text/plain": [
              "\u001b[1mModel: \"model1\"\u001b[0m\n"
            ],
            "text/html": [
              "<pre style=\"white-space:pre;overflow-x:auto;line-height:normal;font-family:Menlo,'DejaVu Sans Mono',consolas,'Courier New',monospace\"><span style=\"font-weight: bold\">Model: \"model1\"</span>\n",
              "</pre>\n"
            ]
          },
          "metadata": {}
        },
        {
          "output_type": "display_data",
          "data": {
            "text/plain": [
              "┏━━━━━━━━━━━━━━━━━━━━━━━━━━━━━━━━━━━━━━┳━━━━━━━━━━━━━━━━━━━━━━━━━━━━━┳━━━━━━━━━━━━━━━━━┓\n",
              "┃\u001b[1m \u001b[0m\u001b[1mLayer (type)                        \u001b[0m\u001b[1m \u001b[0m┃\u001b[1m \u001b[0m\u001b[1mOutput Shape               \u001b[0m\u001b[1m \u001b[0m┃\u001b[1m \u001b[0m\u001b[1m        Param #\u001b[0m\u001b[1m \u001b[0m┃\n",
              "┡━━━━━━━━━━━━━━━━━━━━━━━━━━━━━━━━━━━━━━╇━━━━━━━━━━━━━━━━━━━━━━━━━━━━━╇━━━━━━━━━━━━━━━━━┩\n",
              "│ dense_4 (\u001b[38;5;33mDense\u001b[0m)                      │ (\u001b[38;5;45mNone\u001b[0m, \u001b[38;5;34m1\u001b[0m)                   │               \u001b[38;5;34m6\u001b[0m │\n",
              "└──────────────────────────────────────┴─────────────────────────────┴─────────────────┘\n"
            ],
            "text/html": [
              "<pre style=\"white-space:pre;overflow-x:auto;line-height:normal;font-family:Menlo,'DejaVu Sans Mono',consolas,'Courier New',monospace\">┏━━━━━━━━━━━━━━━━━━━━━━━━━━━━━━━━━━━━━━┳━━━━━━━━━━━━━━━━━━━━━━━━━━━━━┳━━━━━━━━━━━━━━━━━┓\n",
              "┃<span style=\"font-weight: bold\"> Layer (type)                         </span>┃<span style=\"font-weight: bold\"> Output Shape                </span>┃<span style=\"font-weight: bold\">         Param # </span>┃\n",
              "┡━━━━━━━━━━━━━━━━━━━━━━━━━━━━━━━━━━━━━━╇━━━━━━━━━━━━━━━━━━━━━━━━━━━━━╇━━━━━━━━━━━━━━━━━┩\n",
              "│ dense_4 (<span style=\"color: #0087ff; text-decoration-color: #0087ff\">Dense</span>)                      │ (<span style=\"color: #00d7ff; text-decoration-color: #00d7ff\">None</span>, <span style=\"color: #00af00; text-decoration-color: #00af00\">1</span>)                   │               <span style=\"color: #00af00; text-decoration-color: #00af00\">6</span> │\n",
              "└──────────────────────────────────────┴─────────────────────────────┴─────────────────┘\n",
              "</pre>\n"
            ]
          },
          "metadata": {}
        },
        {
          "output_type": "display_data",
          "data": {
            "text/plain": [
              "\u001b[1m Total params: \u001b[0m\u001b[38;5;34m6\u001b[0m (24.00 B)\n"
            ],
            "text/html": [
              "<pre style=\"white-space:pre;overflow-x:auto;line-height:normal;font-family:Menlo,'DejaVu Sans Mono',consolas,'Courier New',monospace\"><span style=\"font-weight: bold\"> Total params: </span><span style=\"color: #00af00; text-decoration-color: #00af00\">6</span> (24.00 B)\n",
              "</pre>\n"
            ]
          },
          "metadata": {}
        },
        {
          "output_type": "display_data",
          "data": {
            "text/plain": [
              "\u001b[1m Trainable params: \u001b[0m\u001b[38;5;34m6\u001b[0m (24.00 B)\n"
            ],
            "text/html": [
              "<pre style=\"white-space:pre;overflow-x:auto;line-height:normal;font-family:Menlo,'DejaVu Sans Mono',consolas,'Courier New',monospace\"><span style=\"font-weight: bold\"> Trainable params: </span><span style=\"color: #00af00; text-decoration-color: #00af00\">6</span> (24.00 B)\n",
              "</pre>\n"
            ]
          },
          "metadata": {}
        },
        {
          "output_type": "display_data",
          "data": {
            "text/plain": [
              "\u001b[1m Non-trainable params: \u001b[0m\u001b[38;5;34m0\u001b[0m (0.00 B)\n"
            ],
            "text/html": [
              "<pre style=\"white-space:pre;overflow-x:auto;line-height:normal;font-family:Menlo,'DejaVu Sans Mono',consolas,'Courier New',monospace\"><span style=\"font-weight: bold\"> Non-trainable params: </span><span style=\"color: #00af00; text-decoration-color: #00af00\">0</span> (0.00 B)\n",
              "</pre>\n"
            ]
          },
          "metadata": {}
        }
      ]
    },
    {
      "cell_type": "code",
      "source": [
        "# Or by using the plot_model function, tho here's its quite lame\n",
        "from tensorflow.keras.utils import plot_model\n",
        "plot_model(model1, show_shapes=True)"
      ],
      "metadata": {
        "colab": {
          "base_uri": "https://localhost:8080/",
          "height": 273
        },
        "id": "2VPQSgvpIuhU",
        "outputId": "7bfc83a5-bb8a-4ad2-e110-8afd6cc37d9e"
      },
      "execution_count": null,
      "outputs": [
        {
          "output_type": "execute_result",
          "data": {
            "image/png": "[encoded data removed]",
            "text/plain": [
              "<IPython.core.display.Image object>"
            ]
          },
          "metadata": {},
          "execution_count": 12
        }
      ]
    },
    {
      "cell_type": "code",
      "source": [
        "model1.compile(optimizer='adam', loss='mean_squared_error')"
      ],
      "metadata": {
        "id": "ZOXR5DOJI1JT"
      },
      "execution_count": null,
      "outputs": []
    },
    {
      "cell_type": "code",
      "source": [
        "t0 = time.time()\n",
        "# Here we train the model.\n",
        "hist1 = model1.fit(x_train, y_train, epochs=25, batch_size=32, verbose=2, validation_split=0.25)\n",
        "trainning_time_model1 = time.time() - t0"
      ],
      "metadata": {
        "colab": {
          "base_uri": "https://localhost:8080/"
        },
        "id": "M6qonSKbI9tI",
        "outputId": "1775e2ca-231f-45de-ca1f-f315b0de3cfe"
      },
      "execution_count": null,
      "outputs": [
        {
          "output_type": "stream",
          "name": "stdout",
          "text": [
            "Epoch 1/25\n"
          ]
        }
      ]
    },
    {
      "cell_type": "code",
      "source": [
        "model1_loss = model1.evaluate(x_test, y_test, verbose=0)\n",
        "\n",
        "print(f\"Model 1 loss: {model1_loss}\")\n"
      ],
      "metadata": {
        "id": "fWbAb4ysLSXT"
      },
      "execution_count": null,
      "outputs": []
    },
    {
      "cell_type": "code",
      "source": [
        "for sas in range(360000,360016):\n",
        "\n",
        "    print(\"\")\n",
        "    print(\"Redshift real:\", redshift[sas])\n",
        "    print(\"Redshift modelo:\", model1.predict(np.array([datos[sas]]), verbose=0)[0][0])\n",
        "    print(\"Error:\", abs(redshift[sas] - model1.predict(np.array([datos[sas]]), verbose=0)[0][0]))\n",
        "    print(f\"u: {u[sas]}, g: {g[sas]}, r: {r[sas]}, i: {i[sas]}, z: {z[sas]}\")\n",
        "    print(\"\")"
      ],
      "metadata": {
        "id": "8pOPttEqLbSI"
      },
      "execution_count": null,
      "outputs": []
    },
    {
      "cell_type": "code",
      "source": [
        "model1.save(\"/content/drive/MyDrive/Tareas Módulo/Proyecto redshift fotométrico/ Modelo1.keras\")"
      ],
      "metadata": {
        "id": "lhqh2gkvp2GE"
      },
      "execution_count": null,
      "outputs": []
    },
    {
      "cell_type": "markdown",
      "source": [
        "## Modelo 2"
      ],
      "metadata": {
        "id": "dEtZV7YNn9j_"
      }
    },
    {
      "cell_type": "code",
      "source": [
        "model2 = tf.keras.Sequential([\n",
        "    tf.keras.Input(shape=(5,)), #Input shape\n",
        "    tf.keras.layers.Dense(units=10, activation=\"relu\"),\n",
        "    tf.keras.layers.Dense(units=10, activation=\"relu\"),\n",
        "    tf.keras.layers.Dense(units=10, activation=\"relu\"),\n",
        "    tf.keras.layers.Dense(units=1, activation=\"linear\") # Output shape\n",
        "], name='model2')\n",
        "\n",
        "model2.summary()"
      ],
      "metadata": {
        "colab": {
          "base_uri": "https://localhost:8080/",
          "height": 291
        },
        "id": "KqpUG3PjSjym",
        "outputId": "6f5d3c68-e4ca-45b9-fc07-0bde5f91ef47"
      },
      "execution_count": null,
      "outputs": [
        {
          "output_type": "display_data",
          "data": {
            "text/plain": [
              "\u001b[1mModel: \"model2\"\u001b[0m\n"
            ],
            "text/html": [
              "<pre style=\"white-space:pre;overflow-x:auto;line-height:normal;font-family:Menlo,'DejaVu Sans Mono',consolas,'Courier New',monospace\"><span style=\"font-weight: bold\">Model: \"model2\"</span>\n",
              "</pre>\n"
            ]
          },
          "metadata": {}
        },
        {
          "output_type": "display_data",
          "data": {
            "text/plain": [
              "┏━━━━━━━━━━━━━━━━━━━━━━━━━━━━━━━━━━━━━━┳━━━━━━━━━━━━━━━━━━━━━━━━━━━━━┳━━━━━━━━━━━━━━━━━┓\n",
              "┃\u001b[1m \u001b[0m\u001b[1mLayer (type)                        \u001b[0m\u001b[1m \u001b[0m┃\u001b[1m \u001b[0m\u001b[1mOutput Shape               \u001b[0m\u001b[1m \u001b[0m┃\u001b[1m \u001b[0m\u001b[1m        Param #\u001b[0m\u001b[1m \u001b[0m┃\n",
              "┡━━━━━━━━━━━━━━━━━━━━━━━━━━━━━━━━━━━━━━╇━━━━━━━━━━━━━━━━━━━━━━━━━━━━━╇━━━━━━━━━━━━━━━━━┩\n",
              "│ dense (\u001b[38;5;33mDense\u001b[0m)                        │ (\u001b[38;5;45mNone\u001b[0m, \u001b[38;5;34m10\u001b[0m)                  │              \u001b[38;5;34m60\u001b[0m │\n",
              "├──────────────────────────────────────┼─────────────────────────────┼─────────────────┤\n",
              "│ dense_1 (\u001b[38;5;33mDense\u001b[0m)                      │ (\u001b[38;5;45mNone\u001b[0m, \u001b[38;5;34m10\u001b[0m)                  │             \u001b[38;5;34m110\u001b[0m │\n",
              "├──────────────────────────────────────┼─────────────────────────────┼─────────────────┤\n",
              "│ dense_2 (\u001b[38;5;33mDense\u001b[0m)                      │ (\u001b[38;5;45mNone\u001b[0m, \u001b[38;5;34m10\u001b[0m)                  │             \u001b[38;5;34m110\u001b[0m │\n",
              "├──────────────────────────────────────┼─────────────────────────────┼─────────────────┤\n",
              "│ dense_3 (\u001b[38;5;33mDense\u001b[0m)                      │ (\u001b[38;5;45mNone\u001b[0m, \u001b[38;5;34m1\u001b[0m)                   │              \u001b[38;5;34m11\u001b[0m │\n",
              "└──────────────────────────────────────┴─────────────────────────────┴─────────────────┘\n"
            ],
            "text/html": [
              "<pre style=\"white-space:pre;overflow-x:auto;line-height:normal;font-family:Menlo,'DejaVu Sans Mono',consolas,'Courier New',monospace\">┏━━━━━━━━━━━━━━━━━━━━━━━━━━━━━━━━━━━━━━┳━━━━━━━━━━━━━━━━━━━━━━━━━━━━━┳━━━━━━━━━━━━━━━━━┓\n",
              "┃<span style=\"font-weight: bold\"> Layer (type)                         </span>┃<span style=\"font-weight: bold\"> Output Shape                </span>┃<span style=\"font-weight: bold\">         Param # </span>┃\n",
              "┡━━━━━━━━━━━━━━━━━━━━━━━━━━━━━━━━━━━━━━╇━━━━━━━━━━━━━━━━━━━━━━━━━━━━━╇━━━━━━━━━━━━━━━━━┩\n",
              "│ dense (<span style=\"color: #0087ff; text-decoration-color: #0087ff\">Dense</span>)                        │ (<span style=\"color: #00d7ff; text-decoration-color: #00d7ff\">None</span>, <span style=\"color: #00af00; text-decoration-color: #00af00\">10</span>)                  │              <span style=\"color: #00af00; text-decoration-color: #00af00\">60</span> │\n",
              "├──────────────────────────────────────┼─────────────────────────────┼─────────────────┤\n",
              "│ dense_1 (<span style=\"color: #0087ff; text-decoration-color: #0087ff\">Dense</span>)                      │ (<span style=\"color: #00d7ff; text-decoration-color: #00d7ff\">None</span>, <span style=\"color: #00af00; text-decoration-color: #00af00\">10</span>)                  │             <span style=\"color: #00af00; text-decoration-color: #00af00\">110</span> │\n",
              "├──────────────────────────────────────┼─────────────────────────────┼─────────────────┤\n",
              "│ dense_2 (<span style=\"color: #0087ff; text-decoration-color: #0087ff\">Dense</span>)                      │ (<span style=\"color: #00d7ff; text-decoration-color: #00d7ff\">None</span>, <span style=\"color: #00af00; text-decoration-color: #00af00\">10</span>)                  │             <span style=\"color: #00af00; text-decoration-color: #00af00\">110</span> │\n",
              "├──────────────────────────────────────┼─────────────────────────────┼─────────────────┤\n",
              "│ dense_3 (<span style=\"color: #0087ff; text-decoration-color: #0087ff\">Dense</span>)                      │ (<span style=\"color: #00d7ff; text-decoration-color: #00d7ff\">None</span>, <span style=\"color: #00af00; text-decoration-color: #00af00\">1</span>)                   │              <span style=\"color: #00af00; text-decoration-color: #00af00\">11</span> │\n",
              "└──────────────────────────────────────┴─────────────────────────────┴─────────────────┘\n",
              "</pre>\n"
            ]
          },
          "metadata": {}
        },
        {
          "output_type": "display_data",
          "data": {
            "text/plain": [
              "\u001b[1m Total params: \u001b[0m\u001b[38;5;34m291\u001b[0m (1.14 KB)\n"
            ],
            "text/html": [
              "<pre style=\"white-space:pre;overflow-x:auto;line-height:normal;font-family:Menlo,'DejaVu Sans Mono',consolas,'Courier New',monospace\"><span style=\"font-weight: bold\"> Total params: </span><span style=\"color: #00af00; text-decoration-color: #00af00\">291</span> (1.14 KB)\n",
              "</pre>\n"
            ]
          },
          "metadata": {}
        },
        {
          "output_type": "display_data",
          "data": {
            "text/plain": [
              "\u001b[1m Trainable params: \u001b[0m\u001b[38;5;34m291\u001b[0m (1.14 KB)\n"
            ],
            "text/html": [
              "<pre style=\"white-space:pre;overflow-x:auto;line-height:normal;font-family:Menlo,'DejaVu Sans Mono',consolas,'Courier New',monospace\"><span style=\"font-weight: bold\"> Trainable params: </span><span style=\"color: #00af00; text-decoration-color: #00af00\">291</span> (1.14 KB)\n",
              "</pre>\n"
            ]
          },
          "metadata": {}
        },
        {
          "output_type": "display_data",
          "data": {
            "text/plain": [
              "\u001b[1m Non-trainable params: \u001b[0m\u001b[38;5;34m0\u001b[0m (0.00 B)\n"
            ],
            "text/html": [
              "<pre style=\"white-space:pre;overflow-x:auto;line-height:normal;font-family:Menlo,'DejaVu Sans Mono',consolas,'Courier New',monospace\"><span style=\"font-weight: bold\"> Non-trainable params: </span><span style=\"color: #00af00; text-decoration-color: #00af00\">0</span> (0.00 B)\n",
              "</pre>\n"
            ]
          },
          "metadata": {}
        }
      ]
    },
    {
      "cell_type": "code",
      "source": [
        "plot_model(model2, show_shapes=True)"
      ],
      "metadata": {
        "colab": {
          "base_uri": "https://localhost:8080/",
          "height": 1000
        },
        "id": "2icJ6cuUq6bY",
        "outputId": "ca7e6d16-0042-4828-910a-f854955266ed"
      },
      "execution_count": null,
      "outputs": [
        {
          "output_type": "execute_result",
          "data": {
            "image/png": "[encoded data removed]",
            "text/plain": [
              "<IPython.core.display.Image object>"
            ]
          },
          "metadata": {},
          "execution_count": 17
        }
      ]
    },
    {
      "cell_type": "code",
      "source": [
        "model2.compile(optimizer=\"adam\", loss='mean_squared_error')"
      ],
      "metadata": {
        "id": "Z-VeBVUsq_0M"
      },
      "execution_count": null,
      "outputs": []
    },
    {
      "cell_type": "code",
      "source": [
        "t0 = time.time()\n",
        "# Here we train the model.\n",
        "hist2 = model2.fit(x_train, y_train, epochs=50, batch_size=256, verbose=2, validation_split=0.25)\n",
        "trainning_time_model2 = time.time() - t0"
      ],
      "metadata": {
        "colab": {
          "base_uri": "https://localhost:8080/"
        },
        "id": "A6jYovFXrDDS",
        "outputId": "7b646e0e-aaf3-4827-8c1b-9ceab26f4d98"
      },
      "execution_count": null,
      "outputs": [
        {
          "output_type": "stream",
          "name": "stdout",
          "text": [
            "Epoch 1/50\n",
            "1099/1099 - 4s - 4ms/step - loss: 0.0050 - val_loss: 0.0051\n",
            "Epoch 2/50\n",
            "1099/1099 - 4s - 4ms/step - loss: 0.0049 - val_loss: 0.0049\n",
            "Epoch 3/50\n",
            "1099/1099 - 2s - 2ms/step - loss: 0.0049 - val_loss: 0.0049\n",
            "Epoch 4/50\n",
            "1099/1099 - 3s - 3ms/step - loss: 0.0049 - val_loss: 0.0053\n",
            "Epoch 5/50\n",
            "1099/1099 - 2s - 2ms/step - loss: 0.0049 - val_loss: 0.0049\n",
            "Epoch 6/50\n",
            "1099/1099 - 3s - 2ms/step - loss: 0.0049 - val_loss: 0.0049\n",
            "Epoch 7/50\n",
            "1099/1099 - 2s - 2ms/step - loss: 0.0049 - val_loss: 0.0049\n",
            "Epoch 8/50\n",
            "1099/1099 - 2s - 2ms/step - loss: 0.0049 - val_loss: 0.0048\n",
            "Epoch 9/50\n",
            "1099/1099 - 3s - 3ms/step - loss: 0.0049 - val_loss: 0.0049\n",
            "Epoch 10/50\n",
            "1099/1099 - 3s - 3ms/step - loss: 0.0049 - val_loss: 0.0047\n",
            "Epoch 11/50\n",
            "1099/1099 - 2s - 2ms/step - loss: 0.0048 - val_loss: 0.0048\n",
            "Epoch 12/50\n",
            "1099/1099 - 2s - 2ms/step - loss: 0.0048 - val_loss: 0.0048\n",
            "Epoch 13/50\n",
            "1099/1099 - 2s - 2ms/step - loss: 0.0048 - val_loss: 0.0055\n",
            "Epoch 14/50\n",
            "1099/1099 - 3s - 2ms/step - loss: 0.0048 - val_loss: 0.0050\n",
            "Epoch 15/50\n",
            "1099/1099 - 4s - 4ms/step - loss: 0.0048 - val_loss: 0.0047\n",
            "Epoch 16/50\n",
            "1099/1099 - 4s - 3ms/step - loss: 0.0048 - val_loss: 0.0048\n",
            "Epoch 17/50\n",
            "1099/1099 - 2s - 2ms/step - loss: 0.0048 - val_loss: 0.0051\n",
            "Epoch 18/50\n",
            "1099/1099 - 2s - 2ms/step - loss: 0.0048 - val_loss: 0.0049\n",
            "Epoch 19/50\n",
            "1099/1099 - 3s - 3ms/step - loss: 0.0048 - val_loss: 0.0049\n",
            "Epoch 20/50\n",
            "1099/1099 - 4s - 4ms/step - loss: 0.0048 - val_loss: 0.0046\n",
            "Epoch 21/50\n",
            "1099/1099 - 3s - 2ms/step - loss: 0.0048 - val_loss: 0.0047\n",
            "Epoch 22/50\n",
            "1099/1099 - 2s - 2ms/step - loss: 0.0048 - val_loss: 0.0048\n",
            "Epoch 23/50\n",
            "1099/1099 - 3s - 3ms/step - loss: 0.0047 - val_loss: 0.0048\n",
            "Epoch 24/50\n",
            "1099/1099 - 3s - 3ms/step - loss: 0.0048 - val_loss: 0.0047\n",
            "Epoch 25/50\n",
            "1099/1099 - 4s - 4ms/step - loss: 0.0047 - val_loss: 0.0047\n",
            "Epoch 26/50\n",
            "1099/1099 - 3s - 3ms/step - loss: 0.0047 - val_loss: 0.0047\n",
            "Epoch 27/50\n",
            "1099/1099 - 2s - 2ms/step - loss: 0.0047 - val_loss: 0.0047\n",
            "Epoch 28/50\n",
            "1099/1099 - 3s - 3ms/step - loss: 0.0047 - val_loss: 0.0049\n",
            "Epoch 29/50\n",
            "1099/1099 - 4s - 4ms/step - loss: 0.0047 - val_loss: 0.0053\n",
            "Epoch 30/50\n",
            "1099/1099 - 2s - 2ms/step - loss: 0.0047 - val_loss: 0.0046\n",
            "Epoch 31/50\n",
            "1099/1099 - 2s - 2ms/step - loss: 0.0047 - val_loss: 0.0053\n",
            "Epoch 32/50\n",
            "1099/1099 - 2s - 2ms/step - loss: 0.0047 - val_loss: 0.0047\n",
            "Epoch 33/50\n",
            "1099/1099 - 3s - 3ms/step - loss: 0.0047 - val_loss: 0.0046\n",
            "Epoch 34/50\n",
            "1099/1099 - 4s - 4ms/step - loss: 0.0047 - val_loss: 0.0046\n",
            "Epoch 35/50\n",
            "1099/1099 - 2s - 2ms/step - loss: 0.0046 - val_loss: 0.0049\n",
            "Epoch 36/50\n",
            "1099/1099 - 2s - 2ms/step - loss: 0.0047 - val_loss: 0.0048\n",
            "Epoch 37/50\n",
            "1099/1099 - 3s - 3ms/step - loss: 0.0046 - val_loss: 0.0046\n",
            "Epoch 38/50\n",
            "1099/1099 - 3s - 3ms/step - loss: 0.0047 - val_loss: 0.0046\n",
            "Epoch 39/50\n",
            "1099/1099 - 4s - 4ms/step - loss: 0.0047 - val_loss: 0.0046\n",
            "Epoch 40/50\n",
            "1099/1099 - 2s - 2ms/step - loss: 0.0047 - val_loss: 0.0046\n",
            "Epoch 41/50\n",
            "1099/1099 - 2s - 2ms/step - loss: 0.0047 - val_loss: 0.0046\n",
            "Epoch 42/50\n",
            "1099/1099 - 3s - 3ms/step - loss: 0.0046 - val_loss: 0.0046\n",
            "Epoch 43/50\n",
            "1099/1099 - 5s - 4ms/step - loss: 0.0046 - val_loss: 0.0047\n",
            "Epoch 44/50\n",
            "1099/1099 - 3s - 2ms/step - loss: 0.0046 - val_loss: 0.0046\n",
            "Epoch 45/50\n",
            "1099/1099 - 2s - 2ms/step - loss: 0.0046 - val_loss: 0.0046\n",
            "Epoch 46/50\n",
            "1099/1099 - 3s - 3ms/step - loss: 0.0046 - val_loss: 0.0049\n",
            "Epoch 47/50\n",
            "1099/1099 - 3s - 3ms/step - loss: 0.0046 - val_loss: 0.0047\n",
            "Epoch 48/50\n",
            "1099/1099 - 2s - 2ms/step - loss: 0.0046 - val_loss: 0.0046\n",
            "Epoch 49/50\n",
            "1099/1099 - 3s - 2ms/step - loss: 0.0046 - val_loss: 0.0045\n",
            "Epoch 50/50\n",
            "1099/1099 - 3s - 2ms/step - loss: 0.0047 - val_loss: 0.0049\n"
          ]
        }
      ]
    },
    {
      "cell_type": "code",
      "source": [
        "model2_loss = model2.evaluate(x_test, y_test, verbose=0)\n",
        "\n",
        "print(f\"Model 2 loss: {model2_loss}\")"
      ],
      "metadata": {
        "colab": {
          "base_uri": "https://localhost:8080/"
        },
        "id": "3b8Y93d3tU_F",
        "outputId": "7d305e98-81d7-48c8-8c0d-b6d7a51fb5e9"
      },
      "execution_count": null,
      "outputs": [
        {
          "output_type": "stream",
          "name": "stdout",
          "text": [
            "Model 2 loss: 0.004833619110286236\n"
          ]
        }
      ]
    },
    {
      "cell_type": "code",
      "source": [
        "for n in range(360000,360016):\n",
        "\n",
        "    print(\"\")\n",
        "    print(\"Redshift real:\", redshift[n])\n",
        "    print(\"Redshift modelo:\", model2.predict(np.array([datos[n]]), verbose=0)[0][0])\n",
        "    print(\"Error:\", abs(redshift[n] - model2.predict(np.array([datos[n]]), verbose=0)[0][0])/redshift[n])\n",
        "    print(f\"u: {u[n]}, g: {g[n]}, r: {r[n]}, i: {i[n]}, z: {z[n]}\")\n",
        "    print(\"\")\n",
        "\n",
        "#N = len(range(0,100))\n",
        "#for n in range(0, 100):\n",
        "\n"
      ],
      "metadata": {
        "colab": {
          "base_uri": "https://localhost:8080/"
        },
        "id": "OWx_uKOUta5m",
        "outputId": "f9bdab54-d090-411b-9294-15bdbb53f9f3"
      },
      "execution_count": null,
      "outputs": [
        {
          "output_type": "stream",
          "name": "stdout",
          "text": [
            "\n",
            "Redshift real: 0.592242\n",
            "Redshift modelo: 0.5509976\n",
            "Error: 0.06964110133942776\n",
            "u: 26.50188, g: 22.45499, r: 20.471, i: 19.43219, z: 18.82457\n",
            "\n",
            "\n",
            "Redshift real: 0.02432023\n",
            "Redshift modelo: 0.013451554\n",
            "Error: 0.44689857451313725\n",
            "u: 16.44762, g: 14.51279, r: 13.62618, i: 13.15896, z: 12.74818\n",
            "\n",
            "\n",
            "Redshift real: 0.1540332\n",
            "Redshift modelo: 0.106024645\n",
            "Error: 0.31167666925755566\n",
            "u: 19.60413, g: 18.20395, r: 17.3629, i: 16.90817, z: 16.56761\n",
            "\n",
            "\n",
            "Redshift real: 0.07161378\n",
            "Redshift modelo: 0.09642378\n",
            "Error: 0.346441738004019\n",
            "u: 19.92661, g: 18.5752, r: 17.9343, i: 17.59997, z: 17.34752\n",
            "\n",
            "\n",
            "Redshift real: 0.5108507\n",
            "Redshift modelo: 0.52706647\n",
            "Error: 0.03174267783621495\n",
            "u: 25.35246, g: 22.15453, r: 20.77458, i: 19.83638, z: 19.32949\n",
            "\n",
            "\n",
            "Redshift real: 0.3421539\n",
            "Redshift modelo: 0.37092483\n",
            "Error: 0.08408768813304929\n",
            "u: 25.7112, g: 20.96655, r: 18.98761, i: 18.3133, z: 17.95132\n",
            "\n",
            "\n",
            "Redshift real: 0.08362263\n",
            "Redshift modelo: 0.09852009\n",
            "Error: 0.17815108979649572\n",
            "u: 19.77063, g: 17.7451, r: 16.76624, i: 16.30623, z: 15.94503\n",
            "\n",
            "\n",
            "Redshift real: 0.1361907\n",
            "Redshift modelo: 0.07998226\n",
            "Error: 0.4127186483404566\n",
            "u: 19.13257, g: 17.48457, r: 16.62511, i: 16.17277, z: 15.84891\n",
            "\n",
            "\n",
            "Redshift real: 0.3425571\n",
            "Redshift modelo: 0.36010966\n",
            "Error: 0.05123979928945882\n",
            "u: 25.85244, g: 20.56161, r: 18.76775, i: 18.10501, z: 17.6988\n",
            "\n",
            "\n",
            "Redshift real: 0.3308806\n",
            "Redshift modelo: 0.35371342\n",
            "Error: 0.06900623068770761\n",
            "u: 22.81857, g: 20.70082, r: 18.94051, i: 18.29828, z: 17.78199\n",
            "\n",
            "\n",
            "Redshift real: 0.3404785\n",
            "Redshift modelo: 0.34992278\n",
            "Error: 0.027738245505161078\n",
            "u: 25.15148, g: 20.67793, r: 18.94178, i: 18.328, z: 17.87895\n",
            "\n",
            "\n",
            "Redshift real: 0.4926839\n",
            "Redshift modelo: 0.5105031\n",
            "Error: 0.03616763866204254\n",
            "u: 23.69223, g: 22.00152, r: 20.15619, i: 19.21464, z: 18.55161\n",
            "\n",
            "\n",
            "Redshift real: 0.3944959\n",
            "Redshift modelo: 0.36770502\n",
            "Error: 0.06791168849090112\n",
            "u: 24.83699, g: 20.85647, r: 19.15331, i: 18.49094, z: 18.02537\n",
            "\n",
            "\n",
            "Redshift real: 0.5208712\n",
            "Redshift modelo: 0.5414965\n",
            "Error: 0.03959772641307078\n",
            "u: 25.49472, g: 22.75548, r: 20.83027, i: 19.83508, z: 19.34395\n",
            "\n",
            "\n",
            "Redshift real: 0.5685201\n",
            "Redshift modelo: 0.6024895\n",
            "Error: 0.05975051970114496\n",
            "u: 26.02121, g: 23.21939, r: 21.37413, i: 20.19647, z: 19.87557\n",
            "\n",
            "\n",
            "Redshift real: 0.6644675\n",
            "Redshift modelo: 0.62417376\n",
            "Error: 0.060640647715466074\n",
            "u: 23.71787, g: 22.98521, r: 21.45585, i: 20.29975, z: 19.88528\n",
            "\n"
          ]
        }
      ]
    },
    {
      "cell_type": "code",
      "source": [
        "predict = model2.predict(datos, verbose=0)\n",
        "predict = np.array([x[0] for x in predict])"
      ],
      "metadata": {
        "id": "TZwzfvG1C2ww"
      },
      "execution_count": null,
      "outputs": []
    },
    {
      "cell_type": "code",
      "source": [
        "z_real = redshift.to_numpy()"
      ],
      "metadata": {
        "id": "yBFicBR3IUfx"
      },
      "execution_count": null,
      "outputs": []
    },
    {
      "cell_type": "code",
      "source": [
        "np.min(z_real)"
      ],
      "metadata": {
        "colab": {
          "base_uri": "https://localhost:8080/"
        },
        "id": "5jBLadrEKiGP",
        "outputId": "f3865ddc-8c27-4c3a-8b1b-e026c387693f"
      },
      "execution_count": null,
      "outputs": [
        {
          "output_type": "execute_result",
          "data": {
            "text/plain": [
              "4.481213e-07"
            ]
          },
          "metadata": {},
          "execution_count": 56
        }
      ]
    },
    {
      "cell_type": "code",
      "source": [
        "error = np.abs(z_real - predict)"
      ],
      "metadata": {
        "id": "Rq33qhYkDTH3"
      },
      "execution_count": null,
      "outputs": []
    },
    {
      "cell_type": "code",
      "source": [
        "error_pc = error/z_real"
      ],
      "metadata": {
        "id": "yCrp0Un6NKyq"
      },
      "execution_count": null,
      "outputs": []
    },
    {
      "cell_type": "code",
      "source": [
        "error_pc.argmax()"
      ],
      "metadata": {
        "colab": {
          "base_uri": "https://localhost:8080/"
        },
        "id": "xnYOjvtBNRjI",
        "outputId": "02b659d1-9900-4526-feb8-92f1f745899a"
      },
      "execution_count": null,
      "outputs": [
        {
          "output_type": "execute_result",
          "data": {
            "text/plain": [
              "224042"
            ]
          },
          "metadata": {},
          "execution_count": 61
        }
      ]
    },
    {
      "cell_type": "code",
      "source": [
        "print(error[224042])\n",
        "print(z_real[224042])\n",
        "print(error[224042]/z_real[224042])"
      ],
      "metadata": {
        "colab": {
          "base_uri": "https://localhost:8080/"
        },
        "id": "wFRFskwWL3x9",
        "outputId": "21867704-5254-47fc-e0c4-ae606bb35eca"
      },
      "execution_count": null,
      "outputs": [
        {
          "output_type": "stream",
          "name": "stdout",
          "text": [
            "0.15253552685810062\n",
            "4.481213e-07\n",
            "340388.9233966353\n"
          ]
        }
      ]
    },
    {
      "cell_type": "code",
      "source": [
        "np.sort(error/z_real)[-10000:-9900]"
      ],
      "metadata": {
        "colab": {
          "base_uri": "https://localhost:8080/"
        },
        "id": "9t6HY_nSJ-Xx",
        "outputId": "5e4fe980-4cf0-43b2-8c27-186ba4a25fec"
      },
      "execution_count": null,
      "outputs": [
        {
          "output_type": "execute_result",
          "data": {
            "text/plain": [
              "array([1.16556599, 1.16561527, 1.16564809, 1.1656558 , 1.16579214,\n",
              "       1.1658053 , 1.16588737, 1.16598648, 1.16599905, 1.1664193 ,\n",
              "       1.16642564, 1.1664631 , 1.16650434, 1.16670836, 1.16674888,\n",
              "       1.1667984 , 1.16681063, 1.16686999, 1.16704218, 1.16716695,\n",
              "       1.16717828, 1.16728007, 1.16738773, 1.16738814, 1.16747146,\n",
              "       1.1674743 , 1.16750578, 1.16754413, 1.16761104, 1.16761821,\n",
              "       1.16766653, 1.16767216, 1.16784688, 1.16788894, 1.1679426 ,\n",
              "       1.16802258, 1.16806815, 1.16809311, 1.16817902, 1.16833266,\n",
              "       1.16852983, 1.16853612, 1.16857964, 1.16860954, 1.16866387,\n",
              "       1.16867681, 1.16889939, 1.16910145, 1.1691577 , 1.16923466,\n",
              "       1.16930466, 1.16944861, 1.1694902 , 1.16950872, 1.16951013,\n",
              "       1.16955368, 1.16967787, 1.16975803, 1.16978268, 1.17003571,\n",
              "       1.17009314, 1.17016661, 1.17033277, 1.17034132, 1.1704468 ,\n",
              "       1.17057526, 1.17070128, 1.17081556, 1.1708949 , 1.17108306,\n",
              "       1.17124844, 1.17130249, 1.17133419, 1.17140258, 1.17140583,\n",
              "       1.17150114, 1.17158277, 1.1716523 , 1.17165326, 1.17173913,\n",
              "       1.17177347, 1.17181111, 1.17183939, 1.17184951, 1.17199802,\n",
              "       1.17202496, 1.17207094, 1.17209284, 1.17218331, 1.17228746,\n",
              "       1.17233051, 1.17234695, 1.17241259, 1.17252902, 1.17268777,\n",
              "       1.17279683, 1.17280155, 1.17309878, 1.17314145, 1.1731507 ])"
            ]
          },
          "metadata": {},
          "execution_count": 73
        }
      ]
    },
    {
      "cell_type": "code",
      "source": [
        "np.sort(error/z_real)[:10]"
      ],
      "metadata": {
        "colab": {
          "base_uri": "https://localhost:8080/"
        },
        "id": "vJI_LXLvRKqq",
        "outputId": "fb9d3548-5594-4cc0-bbd3-e9ae3d0c0bac"
      },
      "execution_count": null,
      "outputs": [
        {
          "output_type": "execute_result",
          "data": {
            "text/plain": [
              "array([2.58242295e-07, 9.18982638e-07, 1.00607277e-06, 1.05920498e-06,\n",
              "       1.17843678e-06, 1.52324309e-06, 1.56870999e-06, 2.12848688e-06,\n",
              "       2.18053077e-06, 2.32847685e-06])"
            ]
          },
          "metadata": {},
          "execution_count": 65
        }
      ]
    },
    {
      "cell_type": "code",
      "source": [
        "model2.save(\"/content/drive/MyDrive/Tareas Módulo/Proyecto redshift fotométrico/ Modelo2.keras\")"
      ],
      "metadata": {
        "id": "1-kuadoO5MGD"
      },
      "execution_count": null,
      "outputs": []
    }
  ]
}